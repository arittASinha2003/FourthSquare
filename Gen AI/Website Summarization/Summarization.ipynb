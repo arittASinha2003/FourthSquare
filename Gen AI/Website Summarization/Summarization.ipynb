{
 "cells": [
  {
   "cell_type": "code",
   "execution_count": 39,
   "metadata": {},
   "outputs": [
    {
     "data": {
      "text/plain": [
       "True"
      ]
     },
     "execution_count": 39,
     "metadata": {},
     "output_type": "execute_result"
    }
   ],
   "source": [
    "import os\n",
    "from langchain_cohere.chat_models import ChatCohere\n",
    "from langchain_core.output_parsers import StrOutputParser\n",
    "from langchain.prompts import PromptTemplate\n",
    "from langchain.schema import Document\n",
    "from langchain_cohere.embeddings import CohereEmbeddings\n",
    "from langchain_mongodb import MongoDBAtlasVectorSearch\n",
    "from pymongo.mongo_client import MongoClient\n",
    "from bs4 import BeautifulSoup, Comment\n",
    "import requests\n",
    "from dotenv import load_dotenv\n",
    "load_dotenv()"
   ]
  },
  {
   "cell_type": "code",
   "execution_count": 3,
   "metadata": {},
   "outputs": [],
   "source": [
    "# Initialize Summarization Model\n",
    "summarization_model = ChatCohere(cohere_api_key=os.getenv(\"COHERE_API_KEY\"), model=\"command-r-plus\", temperature=0.5)"
   ]
  },
  {
   "cell_type": "code",
   "execution_count": 4,
   "metadata": {},
   "outputs": [
    {
     "data": {
      "text/plain": [
       "AIMessage(content='Hello! How can I help you today?', additional_kwargs={'documents': None, 'citations': None, 'search_results': None, 'search_queries': None, 'is_search_required': None, 'generation_id': '2e470590-e2e4-43bc-bee4-8eba3bccb56b', 'token_count': {'input_tokens': 69, 'output_tokens': 9}}, response_metadata={'documents': None, 'citations': None, 'search_results': None, 'search_queries': None, 'is_search_required': None, 'generation_id': '2e470590-e2e4-43bc-bee4-8eba3bccb56b', 'token_count': {'input_tokens': 69, 'output_tokens': 9}}, id='run-fa7b38b6-da16-445c-a39c-c1e85b8d05d6-0')"
      ]
     },
     "execution_count": 4,
     "metadata": {},
     "output_type": "execute_result"
    }
   ],
   "source": [
    "summarization_model.invoke(input = \"Hello World!\")"
   ]
  },
  {
   "cell_type": "code",
   "execution_count": 5,
   "metadata": {},
   "outputs": [],
   "source": [
    "document_sample = Document(page_content = \"Page Content of Document 1\", metadata = {'id' : 1, 'author' : 'Aritta'})"
   ]
  },
  {
   "cell_type": "code",
   "execution_count": 6,
   "metadata": {},
   "outputs": [
    {
     "data": {
      "text/plain": [
       "Document(page_content='Page Content of Document 1', metadata={'id': 1, 'author': 'Aritta'})"
      ]
     },
     "execution_count": 6,
     "metadata": {},
     "output_type": "execute_result"
    }
   ],
   "source": [
    "document_sample"
   ]
  },
  {
   "cell_type": "code",
   "execution_count": 7,
   "metadata": {},
   "outputs": [],
   "source": [
    "embeddings_model = CohereEmbeddings(cohere_api_key = os.getenv(\"COHERE_API_KEY\"), model = \"embed-english-v3.0\")"
   ]
  },
  {
   "cell_type": "code",
   "execution_count": 8,
   "metadata": {},
   "outputs": [
    {
     "data": {
      "text/plain": [
       "1024"
      ]
     },
     "execution_count": 8,
     "metadata": {},
     "output_type": "execute_result"
    }
   ],
   "source": [
    "len(embeddings_model.embed_query(text = \"Hello, how are you?\"))"
   ]
  },
  {
   "cell_type": "code",
   "execution_count": 9,
   "metadata": {},
   "outputs": [],
   "source": [
    "mongo_client = MongoClient(host = os.getenv(\"ATLAS_CONNECTION_STRING\"))"
   ]
  },
  {
   "cell_type": "code",
   "execution_count": 10,
   "metadata": {},
   "outputs": [],
   "source": [
    "# Define MongoDB Database and Collection\n",
    "webpages_database = mongo_client[\"webpages\"]\n",
    "content_collection = webpages_database[\"content\"]"
   ]
  },
  {
   "cell_type": "code",
   "execution_count": 11,
   "metadata": {},
   "outputs": [],
   "source": [
    "vectorstore = MongoDBAtlasVectorSearch(collection = content_collection, embedding = embeddings_model, index_name = \"content_index\")"
   ]
  },
  {
   "cell_type": "code",
   "execution_count": 15,
   "metadata": {},
   "outputs": [],
   "source": [
    "# list(knowledge_collection.find())\n",
    "for i in content_collection.find():\n",
    "    print(i)"
   ]
  },
  {
   "cell_type": "code",
   "execution_count": 16,
   "metadata": {},
   "outputs": [
    {
     "data": {
      "text/plain": [
       "InsertOneResult(ObjectId('667d9018df3ba1692f03b34a'), acknowledged=True)"
      ]
     },
     "execution_count": 16,
     "metadata": {},
     "output_type": "execute_result"
    }
   ],
   "source": [
    "content_collection.insert_one({'hello':'world'})"
   ]
  },
  {
   "cell_type": "code",
   "execution_count": 52,
   "metadata": {},
   "outputs": [
    {
     "name": "stdout",
     "output_type": "stream",
     "text": [
      "{'_id': ObjectId('667d9018df3ba1692f03b34a'), 'hello': 'world'}\n"
     ]
    }
   ],
   "source": [
    "for i in content_collection.find():\n",
    "    print(i)"
   ]
  },
  {
   "cell_type": "code",
   "execution_count": 57,
   "metadata": {},
   "outputs": [],
   "source": [
    "def tag_visible(element):\n",
    "    if element.parent.name in ['style', 'script', 'head', 'title', 'meta', '[document]']:\n",
    "        return False\n",
    "    if isinstance(element, Comment):\n",
    "        return False\n",
    "    return True\n",
    "\n",
    "def extract_useful_content(url):\n",
    "    try:\n",
    "        response = requests.get(url)\n",
    "        response.raise_for_status()\n",
    "\n",
    "        soup = BeautifulSoup(response.content, 'html.parser')\n",
    "\n",
    "        elements = soup.find_all(['p', 'div', 'article', 'section'])\n",
    "\n",
    "        visible_texts = filter(tag_visible, elements)\n",
    "        content_parts = [element.get_text(separator=' ').strip() for element in visible_texts if element.get_text(strip=True)]\n",
    "\n",
    "        main_content = ' '.join(content_parts)\n",
    "        main_content = ' '.join(main_content.split())\n",
    "\n",
    "        return main_content.strip()\n",
    "\n",
    "    except requests.exceptions.RequestException as e:\n",
    "        print(f\"An error occurred: {e}\")\n",
    "        return None\n",
    "    except Exception as e:\n",
    "        print(f\"An unexpected error occurred: {e}\")\n",
    "        return None\n",
    "\n",
    "def summarize_content(content):\n",
    "    prompt_template = PromptTemplate.from_template(template=\"Summarize the following content:\\n\\n{content}\\n\\nSummary:\")\n",
    "    response = summarization_model.invoke(prompt_template.format(content=content))\n",
    "    return response.content\n",
    "\n",
    "def store_content_in_db(url, content, summary):\n",
    "    # document = {\n",
    "    #     \"page_content\": content,\n",
    "    #     \"metadata\": {\n",
    "    #         \"url\": url,\n",
    "    #         \"summary\": summary\n",
    "    #     }\n",
    "    # }\n",
    "    # content_collection.insert_one(document)\n",
    "    ingestion_docs = []\n",
    "    # url, summary = url, summary\n",
    "    id = 1\n",
    "    if content:\n",
    "        ingestion_docs.append(Document(page_content = content, metadata = {'id' : id, 'url' : url, 'summary' : summary}))\n",
    "        id+=1\n",
    "    insert_ids = vectorstore.add_documents(ingestion_docs)\n",
    "\n",
    "def summarize_webpage(url):\n",
    "    raw_content = extract_useful_content(url)\n",
    "    if not raw_content:\n",
    "        return None\n",
    "    \n",
    "    summary = summarize_content(raw_content)\n",
    "    store_content_in_db(url, raw_content, summary)\n",
    "    return summary\n",
    "\n",
    "def get_answer(query):\n",
    "    qa_prompt_template = PromptTemplate.from_template(\"Answer the question based on the provided documents: {context}\\n\\nQuestion: {query}\")\n",
    "    str_parser = StrOutputParser()\n",
    "    search_result = vectorstore.similarity_search(query=query)\n",
    "    context = ''\n",
    "    doc_id = 1\n",
    "    for doc in search_result:\n",
    "        context += f'\\n\\nSource {doc_id}:\\n' + doc.page_content\n",
    "        doc_id += 1\n",
    "    qa_chain = qa_prompt_template | summarization_model | str_parser\n",
    "    response = qa_chain.invoke({'context': context, 'query': query})\n",
    "    return response"
   ]
  },
  {
   "cell_type": "code",
   "execution_count": 60,
   "metadata": {},
   "outputs": [
    {
     "name": "stdout",
     "output_type": "stream",
     "text": [
      "Summarizing webpage...\n",
      "Summary: Google Wallet is now available to Android users in India, offering a secure and convenient way to access essential items such as boarding passes, loyalty cards, event tickets, and more. With partnerships with over 20 Indian brands, Google Wallet provides a wide range of digital wallet services. Users can add movie tickets, access boarding passes, redeem gift cards, ride public transport, and even use their Android phone as a corporate badge. Google Wallet prioritizes security and privacy, giving users control over their information. This launch further enhances the Android experience in India, making it more connected and seamless.\n"
     ]
    }
   ],
   "source": [
    "# Input URL\n",
    "url = \"https://blog.google/intl/en-in/products/platforms/google-wallet-comes-to-india-with-localized-experiences/\"\n",
    "print(\"Summarizing webpage...\")\n",
    "summary = summarize_webpage(url)\n",
    "print(\"Summary:\", summary)"
   ]
  },
  {
   "cell_type": "code",
   "execution_count": 69,
   "metadata": {},
   "outputs": [
    {
     "name": "stdout",
     "output_type": "stream",
     "text": [
      "Answering question...\n",
      "Answer: Google Wallet is a new feature available to Android users in India that provides fast, secure access to everyday essentials such as boarding passes, loyalty cards, event tickets, public transport tickets, gift cards, and more. It offers a single, organized destination for users to access their essential items easily. Google has partnered with over 20 of India's top brands, including PVR, INOX, Air India, Air India Express, MakeMyTrip, Ixigo, and Flipkart, to offer a wide range of services through Google Wallet.\n"
     ]
    }
   ],
   "source": [
    "# Answering a question based on the stored data\n",
    "query = \"What is Google Wallet?\"\n",
    "print(\"Answering question...\")\n",
    "answer = get_answer(query)\n",
    "print(\"Answer:\", answer)"
   ]
  },
  {
   "cell_type": "code",
   "execution_count": null,
   "metadata": {},
   "outputs": [],
   "source": [
    "# LangSmith Website: https://smith.langchain.com/o/01459434-cc55-50e2-ac3c-57013defb5cc/\n",
    "# LangChain Documentation Website: https://python.langchain.com/v0.2/docs/introduction/\n",
    "# Cohere API Key Website: https://dashboard.cohere.com/api-keys\n",
    "# MongoDB Atlas Website: https://cloud.mongodb.com/v2/667d7625c0053f5aaebdc4b9#/overview\n",
    "# https://aws.amazon.com/what-is/langchain/\n",
    "# https://blog.langchain.dev/integrating-langchain-with-azure-container-apps-dynamic-sessions/\n",
    "# https://blog.google/intl/en-in/products/platforms/google-wallet-comes-to-india-with-localized-experiences/"
   ]
  }
 ],
 "metadata": {
  "kernelspec": {
   "display_name": "Python 3",
   "language": "python",
   "name": "python3"
  },
  "language_info": {
   "codemirror_mode": {
    "name": "ipython",
    "version": 3
   },
   "file_extension": ".py",
   "mimetype": "text/x-python",
   "name": "python",
   "nbconvert_exporter": "python",
   "pygments_lexer": "ipython3",
   "version": "3.12.3"
  }
 },
 "nbformat": 4,
 "nbformat_minor": 2
}
