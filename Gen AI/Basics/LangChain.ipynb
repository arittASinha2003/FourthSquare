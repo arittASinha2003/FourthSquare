{
 "cells": [
  {
   "cell_type": "code",
   "execution_count": 1,
   "metadata": {},
   "outputs": [
    {
     "data": {
      "text/plain": [
       "True"
      ]
     },
     "execution_count": 1,
     "metadata": {},
     "output_type": "execute_result"
    }
   ],
   "source": [
    "import os\n",
    "from langchain_cohere.chat_models import ChatCohere\n",
    "from langchain_core.output_parsers import StrOutputParser\n",
    "from langchain.prompts import PromptTemplate\n",
    "from langchain.schema import Document\n",
    "from langchain_cohere.embeddings import CohereEmbeddings\n",
    "from langchain_mongodb import MongoDBAtlasVectorSearch\n",
    "from pymongo.mongo_client import MongoClient\n",
    "from dotenv import load_dotenv\n",
    "load_dotenv()"
   ]
  },
  {
   "cell_type": "code",
   "execution_count": 2,
   "metadata": {},
   "outputs": [],
   "source": [
    "chat_model = ChatCohere(cohere_api_key = os.getenv(\"COHERE_API_KEY\"), model = \"command-r-plus\", temperature = 0.5)"
   ]
  },
  {
   "cell_type": "code",
   "execution_count": 3,
   "metadata": {},
   "outputs": [],
   "source": [
    "response = chat_model.invoke(input = \"Hello World!\")"
   ]
  },
  {
   "cell_type": "code",
   "execution_count": 4,
   "metadata": {},
   "outputs": [],
   "source": [
    "prompt_template = PromptTemplate.from_template(template = \"Tell me a joke about {subject}\")"
   ]
  },
  {
   "cell_type": "code",
   "execution_count": 5,
   "metadata": {},
   "outputs": [],
   "source": [
    "response = chat_model.invoke(prompt_template.format(subject = \"dog\"))"
   ]
  },
  {
   "cell_type": "code",
   "execution_count": 6,
   "metadata": {},
   "outputs": [],
   "source": [
    "str_parser = StrOutputParser()"
   ]
  },
  {
   "cell_type": "code",
   "execution_count": 7,
   "metadata": {},
   "outputs": [
    {
     "data": {
      "text/plain": [
       "'Why do dogs make terrible dance partners? \\n\\nBecause they have two left feet!'"
      ]
     },
     "execution_count": 7,
     "metadata": {},
     "output_type": "execute_result"
    }
   ],
   "source": [
    "str_parser.invoke(response)"
   ]
  },
  {
   "cell_type": "code",
   "execution_count": 8,
   "metadata": {},
   "outputs": [],
   "source": [
    "def get_joke(subject : str) -> str:\n",
    "    prompt_template = PromptTemplate.from_template(template = \"Tell me a joke about {subject}\")\n",
    "    str_parser = StrOutputParser()\n",
    "    response = str_parser.invoke(chat_model.invoke(prompt_template.format(subject = subject)))\n",
    "    return response"
   ]
  },
  {
   "cell_type": "code",
   "execution_count": 9,
   "metadata": {},
   "outputs": [
    {
     "data": {
      "text/plain": [
       "'Why do dogs make terrible dance partners? \\n\\nBecause they have two left feet!'"
      ]
     },
     "execution_count": 9,
     "metadata": {},
     "output_type": "execute_result"
    }
   ],
   "source": [
    "get_joke(\"dog\")"
   ]
  },
  {
   "cell_type": "code",
   "execution_count": 10,
   "metadata": {},
   "outputs": [],
   "source": [
    "get_joke_chain = prompt_template | chat_model | str_parser"
   ]
  },
  {
   "cell_type": "code",
   "execution_count": 11,
   "metadata": {},
   "outputs": [
    {
     "data": {
      "text/plain": [
       "'Why do dogs make terrible dance partners? \\n\\nBecause they have two left feet!'"
      ]
     },
     "execution_count": 11,
     "metadata": {},
     "output_type": "execute_result"
    }
   ],
   "source": [
    "get_joke_chain.invoke(input = {'subject' : 'dog'})"
   ]
  },
  {
   "cell_type": "code",
   "execution_count": 12,
   "metadata": {},
   "outputs": [],
   "source": [
    "document_sample = Document(page_content = \"Page Content of Document 1\", metadata = {'id' : 1, 'author' : 'Aritta'})"
   ]
  },
  {
   "cell_type": "code",
   "execution_count": 13,
   "metadata": {},
   "outputs": [
    {
     "data": {
      "text/plain": [
       "Document(page_content='Page Content of Document 1', metadata={'id': 1, 'author': 'Aritta'})"
      ]
     },
     "execution_count": 13,
     "metadata": {},
     "output_type": "execute_result"
    }
   ],
   "source": [
    "document_sample"
   ]
  },
  {
   "cell_type": "code",
   "execution_count": 14,
   "metadata": {},
   "outputs": [],
   "source": [
    "embeddings_model = CohereEmbeddings(cohere_api_key = os.getenv(\"COHERE_API_KEY\"), model = \"embed-english-v3.0\")"
   ]
  },
  {
   "cell_type": "code",
   "execution_count": 15,
   "metadata": {},
   "outputs": [
    {
     "data": {
      "text/plain": [
       "1024"
      ]
     },
     "execution_count": 15,
     "metadata": {},
     "output_type": "execute_result"
    }
   ],
   "source": [
    "len(embeddings_model.embed_query(text = \"Hello, how are you?\"))"
   ]
  },
  {
   "cell_type": "code",
   "execution_count": 16,
   "metadata": {},
   "outputs": [],
   "source": [
    "mongo_client = MongoClient(host = os.getenv(\"ATLAS_CONNECTION_STRING\"))"
   ]
  },
  {
   "cell_type": "code",
   "execution_count": 17,
   "metadata": {},
   "outputs": [],
   "source": [
    "products_database = mongo_client[\"products\"]\n",
    "knowledge_collection = products_database[\"knowledge\"]"
   ]
  },
  {
   "cell_type": "code",
   "execution_count": 18,
   "metadata": {},
   "outputs": [],
   "source": [
    "vectorstore = MongoDBAtlasVectorSearch(collection = knowledge_collection, embedding = embeddings_model, index_name = \"knowledge_index\")"
   ]
  },
  {
   "cell_type": "code",
   "execution_count": 19,
   "metadata": {},
   "outputs": [],
   "source": [
    "# list(knowledge_collection.find())\n",
    "for i in knowledge_collection.find():\n",
    "    print(i)"
   ]
  },
  {
   "cell_type": "code",
   "execution_count": 20,
   "metadata": {},
   "outputs": [
    {
     "data": {
      "text/plain": [
       "InsertOneResult(ObjectId('6679206327469b706797e31d'), acknowledged=True)"
      ]
     },
     "execution_count": 20,
     "metadata": {},
     "output_type": "execute_result"
    }
   ],
   "source": [
    "knowledge_collection.insert_one({'hello':'world'})"
   ]
  },
  {
   "cell_type": "code",
   "execution_count": 21,
   "metadata": {},
   "outputs": [
    {
     "name": "stdout",
     "output_type": "stream",
     "text": [
      "{'_id': ObjectId('6679206327469b706797e31d'), 'hello': 'world'}\n"
     ]
    }
   ],
   "source": [
    "for i in knowledge_collection.find():\n",
    "    print(i)"
   ]
  },
  {
   "cell_type": "code",
   "execution_count": 22,
   "metadata": {},
   "outputs": [
    {
     "name": "stderr",
     "output_type": "stream",
     "text": [
      "c:\\Users\\as200\\Desktop\\Programs\\FourthSquare\\LangChain\\.langchainbasics\\Lib\\site-packages\\tqdm\\auto.py:21: TqdmWarning: IProgress not found. Please update jupyter and ipywidgets. See https://ipywidgets.readthedocs.io/en/stable/user_install.html\n",
      "  from .autonotebook import tqdm as notebook_tqdm\n"
     ]
    }
   ],
   "source": [
    "import pandas as pd\n",
    "\n",
    "df = pd.read_parquet(\"hf://datasets/rag-datasets/rag-mini-wikipedia/data/passages.parquet/part.0.parquet\")"
   ]
  },
  {
   "cell_type": "code",
   "execution_count": 23,
   "metadata": {},
   "outputs": [
    {
     "data": {
      "text/html": [
       "<div>\n",
       "<style scoped>\n",
       "    .dataframe tbody tr th:only-of-type {\n",
       "        vertical-align: middle;\n",
       "    }\n",
       "\n",
       "    .dataframe tbody tr th {\n",
       "        vertical-align: top;\n",
       "    }\n",
       "\n",
       "    .dataframe thead th {\n",
       "        text-align: right;\n",
       "    }\n",
       "</style>\n",
       "<table border=\"1\" class=\"dataframe\">\n",
       "  <thead>\n",
       "    <tr style=\"text-align: right;\">\n",
       "      <th></th>\n",
       "      <th>passage</th>\n",
       "    </tr>\n",
       "    <tr>\n",
       "      <th>id</th>\n",
       "      <th></th>\n",
       "    </tr>\n",
       "  </thead>\n",
       "  <tbody>\n",
       "    <tr>\n",
       "      <th>0</th>\n",
       "      <td>Uruguay (official full name in  ; pron.  , Eas...</td>\n",
       "    </tr>\n",
       "    <tr>\n",
       "      <th>1</th>\n",
       "      <td>It is bordered by Brazil to the north, by Arge...</td>\n",
       "    </tr>\n",
       "    <tr>\n",
       "      <th>2</th>\n",
       "      <td>Montevideo was founded by the Spanish in the e...</td>\n",
       "    </tr>\n",
       "    <tr>\n",
       "      <th>3</th>\n",
       "      <td>The economy is largely based in agriculture (m...</td>\n",
       "    </tr>\n",
       "    <tr>\n",
       "      <th>4</th>\n",
       "      <td>According to Transparency International, Urugu...</td>\n",
       "    </tr>\n",
       "    <tr>\n",
       "      <th>...</th>\n",
       "      <td>...</td>\n",
       "    </tr>\n",
       "    <tr>\n",
       "      <th>3196</th>\n",
       "      <td>*In 2007, a duck in Tallahassee, Florida survi...</td>\n",
       "    </tr>\n",
       "    <tr>\n",
       "      <th>3197</th>\n",
       "      <td>*A rare genetic mutation sees some ducks born ...</td>\n",
       "    </tr>\n",
       "    <tr>\n",
       "      <th>3198</th>\n",
       "      <td>*The Moche people of ancient Peru worshipped n...</td>\n",
       "    </tr>\n",
       "    <tr>\n",
       "      <th>3199</th>\n",
       "      <td>*Angel Wing - A disease common in ducks.</td>\n",
       "    </tr>\n",
       "    <tr>\n",
       "      <th>3200</th>\n",
       "      <td>*  - A modern illustrated guide to identificat...</td>\n",
       "    </tr>\n",
       "  </tbody>\n",
       "</table>\n",
       "<p>3200 rows × 1 columns</p>\n",
       "</div>"
      ],
      "text/plain": [
       "                                                passage\n",
       "id                                                     \n",
       "0     Uruguay (official full name in  ; pron.  , Eas...\n",
       "1     It is bordered by Brazil to the north, by Arge...\n",
       "2     Montevideo was founded by the Spanish in the e...\n",
       "3     The economy is largely based in agriculture (m...\n",
       "4     According to Transparency International, Urugu...\n",
       "...                                                 ...\n",
       "3196  *In 2007, a duck in Tallahassee, Florida survi...\n",
       "3197  *A rare genetic mutation sees some ducks born ...\n",
       "3198  *The Moche people of ancient Peru worshipped n...\n",
       "3199           *Angel Wing - A disease common in ducks.\n",
       "3200  *  - A modern illustrated guide to identificat...\n",
       "\n",
       "[3200 rows x 1 columns]"
      ]
     },
     "execution_count": 23,
     "metadata": {},
     "output_type": "execute_result"
    }
   ],
   "source": [
    "df"
   ]
  },
  {
   "cell_type": "code",
   "execution_count": 24,
   "metadata": {},
   "outputs": [
    {
     "data": {
      "text/html": [
       "<div>\n",
       "<style scoped>\n",
       "    .dataframe tbody tr th:only-of-type {\n",
       "        vertical-align: middle;\n",
       "    }\n",
       "\n",
       "    .dataframe tbody tr th {\n",
       "        vertical-align: top;\n",
       "    }\n",
       "\n",
       "    .dataframe thead th {\n",
       "        text-align: right;\n",
       "    }\n",
       "</style>\n",
       "<table border=\"1\" class=\"dataframe\">\n",
       "  <thead>\n",
       "    <tr style=\"text-align: right;\">\n",
       "      <th></th>\n",
       "      <th>passage</th>\n",
       "    </tr>\n",
       "    <tr>\n",
       "      <th>id</th>\n",
       "      <th></th>\n",
       "    </tr>\n",
       "  </thead>\n",
       "  <tbody>\n",
       "    <tr>\n",
       "      <th>0</th>\n",
       "      <td>Uruguay (official full name in  ; pron.  , Eas...</td>\n",
       "    </tr>\n",
       "    <tr>\n",
       "      <th>1</th>\n",
       "      <td>It is bordered by Brazil to the north, by Arge...</td>\n",
       "    </tr>\n",
       "    <tr>\n",
       "      <th>2</th>\n",
       "      <td>Montevideo was founded by the Spanish in the e...</td>\n",
       "    </tr>\n",
       "    <tr>\n",
       "      <th>3</th>\n",
       "      <td>The economy is largely based in agriculture (m...</td>\n",
       "    </tr>\n",
       "    <tr>\n",
       "      <th>4</th>\n",
       "      <td>According to Transparency International, Urugu...</td>\n",
       "    </tr>\n",
       "    <tr>\n",
       "      <th>5</th>\n",
       "      <td>In November 2007 it became the first Latin Ame...</td>\n",
       "    </tr>\n",
       "    <tr>\n",
       "      <th>6</th>\n",
       "      <td>88% of the population are of European descent....</td>\n",
       "    </tr>\n",
       "    <tr>\n",
       "      <th>7</th>\n",
       "      <td>The name \"Uruguay\" comes from GuaranÃ­. It has...</td>\n",
       "    </tr>\n",
       "    <tr>\n",
       "      <th>8</th>\n",
       "      <td>* \"River of colorful or 'painted' chinchillas ...</td>\n",
       "    </tr>\n",
       "    <tr>\n",
       "      <th>9</th>\n",
       "      <td>* \"River of those who bring food\": an anonymou...</td>\n",
       "    </tr>\n",
       "  </tbody>\n",
       "</table>\n",
       "</div>"
      ],
      "text/plain": [
       "                                              passage\n",
       "id                                                   \n",
       "0   Uruguay (official full name in  ; pron.  , Eas...\n",
       "1   It is bordered by Brazil to the north, by Arge...\n",
       "2   Montevideo was founded by the Spanish in the e...\n",
       "3   The economy is largely based in agriculture (m...\n",
       "4   According to Transparency International, Urugu...\n",
       "5   In November 2007 it became the first Latin Ame...\n",
       "6   88% of the population are of European descent....\n",
       "7   The name \"Uruguay\" comes from GuaranÃ­. It has...\n",
       "8   * \"River of colorful or 'painted' chinchillas ...\n",
       "9   * \"River of those who bring food\": an anonymou..."
      ]
     },
     "execution_count": 24,
     "metadata": {},
     "output_type": "execute_result"
    }
   ],
   "source": [
    "dataset = df[:10]\n",
    "dataset"
   ]
  },
  {
   "cell_type": "code",
   "execution_count": 25,
   "metadata": {},
   "outputs": [],
   "source": [
    "ingestion_docs = []\n",
    "author, source = 'Aritta', 'Wikipedia'\n",
    "id = 1\n",
    "for i in dataset.iterrows():\n",
    "    ingestion_docs.append(Document(page_content = i[1][\"passage\"], metadata = {'id' : id, 'author' : author, 'source' : source}))\n",
    "    id+=1"
   ]
  },
  {
   "cell_type": "code",
   "execution_count": 26,
   "metadata": {},
   "outputs": [
    {
     "data": {
      "text/plain": [
       "[Document(page_content='Uruguay (official full name in  ; pron.  , Eastern Republic of  Uruguay) is a country located in the southeastern part of South America.  It is home to 3.3 million people, of which 1.7 million live in the capital Montevideo and its metropolitan area.', metadata={'id': 1, 'author': 'Aritta', 'source': 'Wikipedia'}),\n",
       " Document(page_content='It is bordered by Brazil to the north, by Argentina across the bank of both the Uruguay River to the west and the estuary of RÃ\\xado de la Plata to the southwest, and the South Atlantic Ocean to the southeast. It is the second smallest independent country in South America, larger only than Suriname and the French overseas department of French Guiana.', metadata={'id': 2, 'author': 'Aritta', 'source': 'Wikipedia'}),\n",
       " Document(page_content='Montevideo was founded by the Spanish in the early 18th century as a military stronghold. Uruguay won its independence in 1828 following a three-way struggle between Spain, Argentina and Brazil. It is a constitutional democracy, where the president fulfills the roles of both head of state and head of government', metadata={'id': 3, 'author': 'Aritta', 'source': 'Wikipedia'}),\n",
       " Document(page_content='The economy is largely based in agriculture (making up 10% of the GDP and the most substantial export) and the state-sector, and relies heavily on world trade. Consequently, it is badly affected by any downturn in global prices. However, the economy is on the whole more stable than surrounding states, and it maintains a solid reputation with investors.', metadata={'id': 4, 'author': 'Aritta', 'source': 'Wikipedia'}),\n",
       " Document(page_content='According to Transparency International, Uruguay is the second least corrupt country in Latin America (after Chile),  Transparency.org.  with its political and labor conditions being among the freest on the continent.', metadata={'id': 5, 'author': 'Aritta', 'source': 'Wikipedia'}),\n",
       " Document(page_content='In November 2007 it became the first Latin American country and the second in the American Continent to recognize same-sex civil unions at the national level.   Uruguay Passes Civil-Union Law at  San Francisco Bay Times (December 6, 2007)', metadata={'id': 6, 'author': 'Aritta', 'source': 'Wikipedia'}),\n",
       " Document(page_content='88% of the population are of European descent. Just under two-thirds of the population are declared Roman Catholics. However, the majority of Uruguayans are only nominally religious.  CIA World Factbook -- Uruguay', metadata={'id': 7, 'author': 'Aritta', 'source': 'Wikipedia'}),\n",
       " Document(page_content='The name \"Uruguay\" comes from GuaranÃ\\xad. It has many possible meanings. Some of the proposed meanings are:', metadata={'id': 8, 'author': 'Aritta', 'source': 'Wikipedia'}),\n",
       " Document(page_content='* \"River of colorful or \\'painted\\' chinchillas (birds)\": poetic interpretation attributed to Juan Zorrilla de San MartÃ\\xadn. ', metadata={'id': 9, 'author': 'Aritta', 'source': 'Wikipedia'}),\n",
       " Document(page_content='* \"River of those who bring food\": an anonymous version which has been popularized since the discovery of an old document written by Jesuit Lucas Marton.', metadata={'id': 10, 'author': 'Aritta', 'source': 'Wikipedia'})]"
      ]
     },
     "execution_count": 26,
     "metadata": {},
     "output_type": "execute_result"
    }
   ],
   "source": [
    "ingestion_docs"
   ]
  },
  {
   "cell_type": "code",
   "execution_count": 27,
   "metadata": {},
   "outputs": [
    {
     "data": {
      "text/plain": [
       "[ObjectId('6679206727469b706797e31e'),\n",
       " ObjectId('6679206727469b706797e31f'),\n",
       " ObjectId('6679206727469b706797e320'),\n",
       " ObjectId('6679206727469b706797e321'),\n",
       " ObjectId('6679206727469b706797e322'),\n",
       " ObjectId('6679206727469b706797e323'),\n",
       " ObjectId('6679206727469b706797e324'),\n",
       " ObjectId('6679206727469b706797e325'),\n",
       " ObjectId('6679206727469b706797e326'),\n",
       " ObjectId('6679206727469b706797e327')]"
      ]
     },
     "execution_count": 27,
     "metadata": {},
     "output_type": "execute_result"
    }
   ],
   "source": [
    "insert_ids = vectorstore.add_documents(ingestion_docs)\n",
    "insert_ids"
   ]
  },
  {
   "cell_type": "code",
   "execution_count": 28,
   "metadata": {},
   "outputs": [
    {
     "data": {
      "text/plain": [
       "[]"
      ]
     },
     "execution_count": 28,
     "metadata": {},
     "output_type": "execute_result"
    }
   ],
   "source": [
    "search_result = vectorstore.similarity_search(query = \"Tell me about Uruguay.\", k = 3)\n",
    "search_result"
   ]
  },
  {
   "cell_type": "code",
   "execution_count": 29,
   "metadata": {},
   "outputs": [],
   "source": [
    "qa_prompt_template = PromptTemplate.from_template(\"Answer the question based on the provided documents: {context}\\n\\nQuestion: {query}\")"
   ]
  },
  {
   "cell_type": "code",
   "execution_count": 30,
   "metadata": {},
   "outputs": [],
   "source": [
    "context = ''\n",
    "id = 1\n",
    "for i in search_result:\n",
    "    context += f'Source {id}:\\n' + i.page_content + '\\n\\n'\n",
    "    id += 1"
   ]
  },
  {
   "cell_type": "code",
   "execution_count": 31,
   "metadata": {},
   "outputs": [
    {
     "data": {
      "text/plain": [
       "''"
      ]
     },
     "execution_count": 31,
     "metadata": {},
     "output_type": "execute_result"
    }
   ],
   "source": [
    "context"
   ]
  },
  {
   "cell_type": "code",
   "execution_count": 32,
   "metadata": {},
   "outputs": [
    {
     "data": {
      "text/plain": [
       "'Answer the question based on the provided documents: \\n\\nQuestion: Tell me about Brazil.'"
      ]
     },
     "execution_count": 32,
     "metadata": {},
     "output_type": "execute_result"
    }
   ],
   "source": [
    "qa_prompt_template.format(query = \"Tell me about Brazil.\", context = context)"
   ]
  },
  {
   "cell_type": "code",
   "execution_count": 33,
   "metadata": {},
   "outputs": [],
   "source": [
    "def get_answer(query: str) -> str:\n",
    "    qa_prompt_template = PromptTemplate.from_template(\"Answer the question based on the provided documents: {context}\\n\\nQuestion: {query}\")\n",
    "    str_parser = StrOutputParser()\n",
    "    search_result = vectorstore.similarity_search(query = query)\n",
    "    context = ''\n",
    "    id = 1\n",
    "    for i in search_result:\n",
    "        context += f'\\n\\nSource {id}:\\n' + i.page_content\n",
    "        id += 1\n",
    "    qa_chain = qa_prompt_template | chat_model | str_parser\n",
    "    response = qa_chain.invoke({'context': context, 'query': query})\n",
    "    return response"
   ]
  },
  {
   "cell_type": "code",
   "execution_count": 34,
   "metadata": {},
   "outputs": [
    {
     "data": {
      "text/plain": [
       "'Brazil and Argentina are the countries that share a border with Uruguay.'"
      ]
     },
     "execution_count": 34,
     "metadata": {},
     "output_type": "execute_result"
    }
   ],
   "source": [
    "get_answer(query = 'What country is in the north border of Uruguay?')"
   ]
  },
  {
   "cell_type": "code",
   "execution_count": 35,
   "metadata": {},
   "outputs": [],
   "source": [
    "# LangSmith Website: https://smith.langchain.com/o/01459434-cc55-50e2-ac3c-57013defb5cc/\n",
    "# LangChain Documentation Website: https://python.langchain.com/v0.2/docs/introduction/\n",
    "# Cohere API Key Website: https://dashboard.cohere.com/api-keys\n",
    "# MongoDB Atlas Website: https://cloud.mongodb.com/v2/6674d3b4061745758b0d5ed5#/overview\n",
    "# RAG Dataset Website: https://huggingface.co/datasets/rag-datasets/rag-mini-wikipedia\n"
   ]
  },
  {
   "cell_type": "code",
   "execution_count": null,
   "metadata": {},
   "outputs": [],
   "source": []
  }
 ],
 "metadata": {
  "kernelspec": {
   "display_name": ".langchainbasics",
   "language": "python",
   "name": "python3"
  },
  "language_info": {
   "codemirror_mode": {
    "name": "ipython",
    "version": 3
   },
   "file_extension": ".py",
   "mimetype": "text/x-python",
   "name": "python",
   "nbconvert_exporter": "python",
   "pygments_lexer": "ipython3",
   "version": "3.12.3"
  }
 },
 "nbformat": 4,
 "nbformat_minor": 2
}
